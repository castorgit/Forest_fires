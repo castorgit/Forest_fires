{
 "cells": [
  {
   "cell_type": "markdown",
   "metadata": {},
   "source": [
    "## Training VAE Autoencoder with ignition events\n",
    "\n",
    "**Status:** PUBLIC Distribution <br>\n",
    "**File Name:** 03_Autoencoder_training_ignition_events.ipynb\n",
    "\n",
    "**Author:** Jaume Manero / Darshana Upadhyay / Richard Purcell<br> \n",
    "**Date created:** 2023/06/19<br>\n",
    "**Last modified:** 2023/06/19<br>\n",
    "**Description:** Autoencoders for Forest Fire prediction\n",
    "\n",
    "We train an autoencoder with a file with Ignition events. This is the first notebook. In this notebook we train the autoencoder to recognize ignition events. There is a map visualization of ignition events in BC"
   ]
  },
  {
   "cell_type": "code",
   "execution_count": 1,
   "metadata": {},
   "outputs": [],
   "source": [
    "import os\n",
    "os.environ['TF_CPP_MIN_LOG_LEVEL'] = '3' \n",
    "from datetime import datetime\n",
    "import matplotlib.pyplot as plt\n",
    "from matplotlib.ticker import StrMethodFormatter\n",
    "import numpy as np\n",
    "import pandas as pd\n",
    "import seaborn as sns\n",
    "\n",
    "import tensorflow as tf\n",
    "tf.compat.v1.disable_eager_execution()\n",
    "from tensorflow.keras.models import Model, load_model\n",
    "from tensorflow.keras.layers import Lambda, Input, Dense\n",
    "from tensorflow.keras.losses import mse, binary_crossentropy, kl_divergence\n",
    "from tensorflow.keras.optimizers.legacy import SGD,Adam,RMSprop\n",
    "from tensorflow.keras import backend as K\n",
    "from tensorflow import keras\n",
    "from sklearn.preprocessing import normalize\n",
    "from keras.models import load_model\n",
    "\n",
    "from sklearn.model_selection import train_test_split\n",
    "from sklearn.preprocessing import MinMaxScaler, StandardScaler, PowerTransformer\n",
    "from sklearn.metrics import classification_report\n",
    "from sklearn.decomposition import PCA\n",
    "\n",
    "import seaborn as sns\n",
    "import matplotlib.pyplot as plt\n",
    "\n",
    "%matplotlib inline"
   ]
  },
  {
   "cell_type": "code",
   "execution_count": 2,
   "metadata": {},
   "outputs": [],
   "source": [
    "# Hyperparameters\n",
    "\n"
   ]
  },
  {
   "cell_type": "code",
   "execution_count": 3,
   "metadata": {},
   "outputs": [
    {
     "data": {
      "text/plain": [
       "Index(['date', 'lon', 'lat', 'u10', 'v10', 'd2m', 't2m', 'e', 'cvh', 'cvl',\n",
       "       'skt', 'stl1', 'stl2', 'stl3', 'stl4', 'slt', 'sp', 'tp', 'swvl1',\n",
       "       'swvl2', 'swvl3', 'swvl4', 'month', 'day', 'hour', 'ignition'],\n",
       "      dtype='object')"
      ]
     },
     "execution_count": 3,
     "metadata": {},
     "output_type": "execute_result"
    }
   ],
   "source": [
    "path_ignition = './Data/ignition_rows.csv'\n",
    "path_non_ignition = './Data/non_ignition_rows.csv'\n",
    "ignition_df = pd.read_csv(path_ignition)  \n",
    "non_ignition_df = pd.read_csv(path_non_ignition, nrows=1000000)  \n",
    "ignition_df.columns"
   ]
  },
  {
   "cell_type": "code",
   "execution_count": 4,
   "metadata": {},
   "outputs": [
    {
     "data": {
      "text/plain": [
       "Index(['date', 'lon', 'lat', 'u10', 'v10', 'd2m', 't2m', 'e', 'cvh', 'cvl',\n",
       "       'skt', 'stl1', 'stl2', 'stl3', 'stl4', 'slt', 'sp', 'tp', 'swvl1',\n",
       "       'swvl2', 'swvl3', 'swvl4', 'month', 'day', 'hour', 'ignition'],\n",
       "      dtype='object')"
      ]
     },
     "execution_count": 4,
     "metadata": {},
     "output_type": "execute_result"
    }
   ],
   "source": [
    "non_ignition_df.columns"
   ]
  },
  {
   "cell_type": "code",
   "execution_count": 5,
   "metadata": {},
   "outputs": [],
   "source": [
    "ignition_df.drop(['lon', 'lat', 'date', 'ignition'], axis=1, inplace=True)\n",
    "non_ignition_df.drop(['lon', 'lat', 'date', 'ignition'], axis=1, inplace=True)"
   ]
  },
  {
   "cell_type": "code",
   "execution_count": 6,
   "metadata": {},
   "outputs": [
    {
     "name": "stdout",
     "output_type": "stream",
     "text": [
      "ignition shape (51918, 22)\n",
      "non_ignition shape (1000000, 22)\n"
     ]
    }
   ],
   "source": [
    "# we create a numpy array with the features of every row\n",
    "ignition_np = ignition_df.to_numpy()\n",
    "print('ignition shape',ignition_np.shape)\n",
    "non_ignition_np = non_ignition_df.to_numpy()\n",
    "print('non_ignition shape',non_ignition_np.shape)"
   ]
  },
  {
   "cell_type": "code",
   "execution_count": 7,
   "metadata": {},
   "outputs": [
    {
     "data": {
      "text/plain": [
       "(51918, 22)"
      ]
     },
     "execution_count": 7,
     "metadata": {},
     "output_type": "execute_result"
    }
   ],
   "source": [
    "ignition_df = ignition_df.replace([np.inf, -np.inf], 0)\n",
    "scaler = MinMaxScaler()\n",
    "ignition_scaled = scaler.fit_transform(ignition_df)\n",
    "ignition_scaled.shape"
   ]
  },
  {
   "cell_type": "code",
   "execution_count": 8,
   "metadata": {},
   "outputs": [
    {
     "data": {
      "text/plain": [
       "(1000000, 22)"
      ]
     },
     "execution_count": 8,
     "metadata": {},
     "output_type": "execute_result"
    }
   ],
   "source": [
    "non_ignition_df = non_ignition_df.replace([np.inf, -np.inf], 0)\n",
    "scaler = MinMaxScaler()\n",
    "non_ignition_scaled = scaler.fit_transform(non_ignition_df)\n",
    "non_ignition_scaled.shape"
   ]
  },
  {
   "cell_type": "code",
   "execution_count": 9,
   "metadata": {},
   "outputs": [
    {
     "data": {
      "text/plain": [
       "(41534, 22)"
      ]
     },
     "execution_count": 9,
     "metadata": {},
     "output_type": "execute_result"
    }
   ],
   "source": [
    "# generate train set\n",
    "# training set will consist of ignition dataset\n",
    "\n",
    "len_ignition = len(ignition_scaled)\n",
    "len_ignition_train = int(0.80 * len_ignition)\n",
    "X_train = ignition_scaled[:len_ignition_train]\n",
    "X_train.shape"
   ]
  },
  {
   "cell_type": "code",
   "execution_count": 10,
   "metadata": {},
   "outputs": [
    {
     "data": {
      "text/plain": [
       "(1000000, 22)"
      ]
     },
     "execution_count": 10,
     "metadata": {},
     "output_type": "execute_result"
    }
   ],
   "source": [
    "# generate non-ignition set\n",
    "# test will be only non-ignition data (much larger)\n",
    "\n",
    "len_non_ignition = len(non_ignition_scaled)\n",
    "X_test = non_ignition_scaled\n",
    "X_test.shape"
   ]
  },
  {
   "cell_type": "code",
   "execution_count": 11,
   "metadata": {},
   "outputs": [
    {
     "name": "stdout",
     "output_type": "stream",
     "text": [
      "1653\n"
     ]
    }
   ],
   "source": [
    "#remove Nans and convert them to 0\n",
    "print(np.count_nonzero(np.isnan(X_train)))\n",
    "X_train = np.nan_to_num(X_train)"
   ]
  },
  {
   "cell_type": "code",
   "execution_count": 12,
   "metadata": {},
   "outputs": [
    {
     "name": "stdout",
     "output_type": "stream",
     "text": [
      "1988597\n"
     ]
    }
   ],
   "source": [
    "#remove Nans and convert them to 0\n",
    "print(np.count_nonzero(np.isnan(X_test)))\n",
    "X_test = np.nan_to_num(X_test)\n",
    "# y_test.shape"
   ]
  },
  {
   "cell_type": "code",
   "execution_count": 13,
   "metadata": {},
   "outputs": [],
   "source": [
    "def get_error_term(v1, v2, _rmse=True):\n",
    "    if _rmse:\n",
    "        return np.sqrt(np.mean((v1 - v2) ** 2, axis=1))\n",
    "    #return MAE\n",
    "    return np.mean(np.abs(v1 - v2), axis=1)"
   ]
  },
  {
   "cell_type": "code",
   "execution_count": 14,
   "metadata": {},
   "outputs": [],
   "source": [
    "# The reparameterization trick\n",
    "\n",
    "def sample(args):\n",
    "    z_mean, z_log_var = args\n",
    "    batch = K.shape(z_mean)[0]\n",
    "    dim = K.int_shape(z_mean)[1]\n",
    "    epsilon = K.random_normal(shape=(batch, dim))\n",
    "    return z_mean + K.exp(0.5 * z_log_var) * epsilon"
   ]
  },
  {
   "cell_type": "code",
   "execution_count": 15,
   "metadata": {},
   "outputs": [],
   "source": [
    "original_dim = X_train.shape[1]\n",
    "input_shape = (original_dim,)\n",
    "intermediate_dim = int(original_dim / 2)\n",
    "latent_dim = int(original_dim / 4)\n",
    "intermediate_dim = 32\n",
    "latent_dim = 4"
   ]
  },
  {
   "cell_type": "code",
   "execution_count": 16,
   "metadata": {},
   "outputs": [
    {
     "name": "stdout",
     "output_type": "stream",
     "text": [
      "Model: \"encoder\"\n",
      "__________________________________________________________________________________________________\n",
      " Layer (type)                   Output Shape         Param #     Connected to                     \n",
      "==================================================================================================\n",
      " encoder_input (InputLayer)     [(None, 22)]         0           []                               \n",
      "                                                                                                  \n",
      " dense (Dense)                  (None, 32)           736         ['encoder_input[0][0]']          \n",
      "                                                                                                  \n",
      " dense_1 (Dense)                (None, 16)           528         ['dense[0][0]']                  \n",
      "                                                                                                  \n",
      " dense_2 (Dense)                (None, 16)           272         ['dense_1[0][0]']                \n",
      "                                                                                                  \n",
      " z_mean (Dense)                 (None, 4)            68          ['dense_2[0][0]']                \n",
      "                                                                                                  \n",
      " z_log_var (Dense)              (None, 4)            68          ['dense_2[0][0]']                \n",
      "                                                                                                  \n",
      " z (Lambda)                     (None, 4)            0           ['z_mean[0][0]',                 \n",
      "                                                                  'z_log_var[0][0]']              \n",
      "                                                                                                  \n",
      "==================================================================================================\n",
      "Total params: 1,672\n",
      "Trainable params: 1,672\n",
      "Non-trainable params: 0\n",
      "__________________________________________________________________________________________________\n"
     ]
    }
   ],
   "source": [
    "# encoder model\n",
    "inputs = Input(shape=input_shape, name='encoder_input')\n",
    "x      = Dense(intermediate_dim, activation='relu')(inputs)\n",
    "x      = Dense(intermediate_dim/2, activation='relu')(x)\n",
    "x      = Dense(intermediate_dim/2, activation='relu')(x)\n",
    "z_mean = Dense(latent_dim, name='z_mean')(x)\n",
    "z_log_var = Dense(latent_dim, name='z_log_var')(x)\n",
    "# use the reparameterization trick and get the output from the sample() function\n",
    "z        = Lambda(sample, output_shape=(latent_dim,), name='z')([z_mean, z_log_var])\n",
    "encoder  = Model(inputs, z, name='encoder')\n",
    "encoder.summary()"
   ]
  },
  {
   "cell_type": "code",
   "execution_count": 17,
   "metadata": {},
   "outputs": [
    {
     "name": "stdout",
     "output_type": "stream",
     "text": [
      "Model: \"decoder\"\n",
      "_________________________________________________________________\n",
      " Layer (type)                Output Shape              Param #   \n",
      "=================================================================\n",
      " z_sampling (InputLayer)     [(None, 4)]               0         \n",
      "                                                                 \n",
      " dense_3 (Dense)             (None, 16)                80        \n",
      "                                                                 \n",
      " dense_4 (Dense)             (None, 32)                544       \n",
      "                                                                 \n",
      " dense_5 (Dense)             (None, 32)                1056      \n",
      "                                                                 \n",
      " dense_6 (Dense)             (None, 22)                726       \n",
      "                                                                 \n",
      "=================================================================\n",
      "Total params: 2,406\n",
      "Trainable params: 2,406\n",
      "Non-trainable params: 0\n",
      "_________________________________________________________________\n"
     ]
    }
   ],
   "source": [
    "# decoder model\n",
    "latent_inputs = Input(shape=(latent_dim,), name='z_sampling')\n",
    "x             = Dense(intermediate_dim/2, activation='relu')(latent_inputs)\n",
    "x             = Dense(intermediate_dim, activation='relu')(x)\n",
    "x             = Dense(intermediate_dim, activation='relu')(x)\n",
    "outputs       = Dense(original_dim, activation='sigmoid')(x)\n",
    "# Instantiate the decoder model:\n",
    "decoder       = Model(latent_inputs, outputs, name='decoder')\n",
    "decoder.summary()"
   ]
  },
  {
   "cell_type": "code",
   "execution_count": 18,
   "metadata": {},
   "outputs": [],
   "source": [
    "# full VAE model\n",
    "outputs   = decoder(encoder(inputs))\n",
    "vae_model = Model(inputs, outputs, name='vae_mlp')"
   ]
  },
  {
   "cell_type": "code",
   "execution_count": 19,
   "metadata": {},
   "outputs": [],
   "source": [
    "# the KL loss function:\n",
    "def vae_loss(x, x_decoded_mean):\n",
    "    # compute the average MSE error, then scale it up, ie. simply sum on all axes\n",
    "    reconstruction_loss = K.sum(K.square(x - x_decoded_mean))\n",
    "    # compute the KL loss\n",
    "    kl_loss = - 0.5 * K.sum(1 + z_log_var - K.square(z_mean) - K.square(K.exp(z_log_var)), axis=-1)\n",
    "    # return the average loss over all \n",
    "    total_loss = K.mean(reconstruction_loss + kl_loss)    \n",
    "    #total_loss = reconstruction_loss + kl_loss\n",
    "    return total_loss"
   ]
  },
  {
   "cell_type": "code",
   "execution_count": 20,
   "metadata": {
    "tags": []
   },
   "outputs": [
    {
     "name": "stdout",
     "output_type": "stream",
     "text": [
      "Model: \"vae_mlp\"\n",
      "_________________________________________________________________\n",
      " Layer (type)                Output Shape              Param #   \n",
      "=================================================================\n",
      " encoder_input (InputLayer)  [(None, 22)]              0         \n",
      "                                                                 \n",
      " encoder (Functional)        (None, 4)                 1672      \n",
      "                                                                 \n",
      " decoder (Functional)        (None, 22)                2406      \n",
      "                                                                 \n",
      "=================================================================\n",
      "Total params: 4,078\n",
      "Trainable params: 4,078\n",
      "Non-trainable params: 0\n",
      "_________________________________________________________________\n"
     ]
    }
   ],
   "source": [
    "opt = RMSprop(learning_rate=0.0001)\n",
    "opt = Adam(learning_rate=0.00001, clipvalue=0.5)\n",
    "opt = Adam()\n",
    "\n",
    "\n",
    "vae_model.compile(optimizer=opt, loss=vae_loss)\n",
    "vae_model.summary()\n",
    "\n",
    "trained = True     # First time train / Next times use saved model to speed up analysis\n",
    "if trained:\n",
    "    vae_model = load_model('./Data/vae_model.hf5', custom_objects={'vae_loss': vae_loss})\n",
    "\n",
    "else:\n",
    "    results = vae_model.fit(X_train, X_train,\n",
    "                        shuffle=True,\n",
    "                        epochs=5000,\n",
    "                        batch_size=128)\n",
    "    # Training figure\n",
    "    plt.plot(results.history['loss'])\n",
    "    plt.title('model loss')\n",
    "    plt.ylabel('loss')\n",
    "    plt.xlabel('epoch')\n",
    "    plt.legend(['train', 'test'], loc='upper right');\n",
    "    plt.show()\n",
    "    # saving weights\n",
    "    vae_model.save('./Data/vae_model.hf5')"
   ]
  },
  {
   "cell_type": "code",
   "execution_count": 21,
   "metadata": {},
   "outputs": [
    {
     "name": "stderr",
     "output_type": "stream",
     "text": [
      "/home/manero/DL/lib/python3.8/site-packages/keras/engine/training_v1.py:2359: UserWarning: `Model.state_updates` will be removed in a future version. This property should not be used in TensorFlow 2.0, as `updates` are applied automatically.\n",
      "  updates=self.state_updates,\n"
     ]
    }
   ],
   "source": [
    "X_train_pred = vae_model.predict(X_train)"
   ]
  },
  {
   "cell_type": "code",
   "execution_count": 22,
   "metadata": {},
   "outputs": [
    {
     "name": "stdout",
     "output_type": "stream",
     "text": [
      "Avg error 0.2917868515450343\n",
      "median error 0.2919530180608302\n",
      "99Q:          0.40078734991152914\n",
      "setting threshold on 0.40078734991152914 \n",
      "0.41760629459572934 0.2919530180608302\n"
     ]
    }
   ],
   "source": [
    "mae_vector_train = get_error_term(X_train_pred, X_train, _rmse=False)\n",
    "\n",
    "print(f'Avg error {np.mean(mae_vector_train)}\\nmedian error {np.median(mae_vector_train)}\\n99Q:    \\\n",
    "      {np.quantile(mae_vector_train, 0.99)}')\n",
    "print(f'setting threshold on { np.quantile(mae_vector_train, 0.99)} ')\n",
    "\n",
    "error_thresh = np.quantile(mae_vector_train, 0.99)\n",
    "error_thresh = np.quantile(mae_vector_train, 0.995)\n",
    "error_median = np.quantile(mae_vector_train, 0.5)\n",
    "print(error_thresh, error_median)"
   ]
  },
  {
   "cell_type": "code",
   "execution_count": 23,
   "metadata": {},
   "outputs": [
    {
     "data": {
      "text/plain": [
       "<AxesSubplot:title={'center':'Distribution Plot reconstruction error ignitions'}, ylabel='Count'>"
      ]
     },
     "execution_count": 23,
     "metadata": {},
     "output_type": "execute_result"
    },
    {
     "data": {
      "image/png": "[encoded data removed]",
      "text/plain": [
       "<Figure size 504x432 with 1 Axes>"
      ]
     },
     "metadata": {
      "needs_background": "light"
     },
     "output_type": "display_data"
    }
   ],
   "source": [
    "fig, ax = plt.subplots(figsize=(7,6))\n",
    "ax.set_title('Distribution Plot reconstruction error ignitions')\n",
    "ax.yaxis.set_major_formatter(StrMethodFormatter('{x:,.0f}'))\n",
    "plt.xlim(0,0.2)\n",
    "sns.histplot(data=mae_vector_train, bins = 1000)"
   ]
  },
  {
   "cell_type": "code",
   "execution_count": 24,
   "metadata": {},
   "outputs": [
    {
     "name": "stdout",
     "output_type": "stream",
     "text": [
      "threshold 0.41760629459572934 0.2919530180608302\n",
      "total non_ignitions 1000000\n",
      "number of almost_ignitions 780909\n"
     ]
    }
   ],
   "source": [
    "X_pred_test = vae_model.predict(X_test)\n",
    "print('threshold', error_thresh,error_median)\n",
    "#train_mae_loss = np.mean(np.abs(x_train_pred - x_train), axis=1)\n",
    "\n",
    "mae_vector = get_error_term(X_pred_test, X_test, _rmse=False)\n",
    "anomalies = (mae_vector > error_median)\n",
    "\n",
    "np.count_nonzero(anomalies) / len(anomalies)\n",
    "print('total non_ignitions',len(X_pred_test))\n",
    "print('number of almost_ignitions', np.count_nonzero(anomalies==0))\n",
    "\n",
    "#print('total y_test',len(y_test))\n",
    "#print(np.count_nonzero(y_test))"
   ]
  },
  {
   "cell_type": "code",
   "execution_count": 25,
   "metadata": {},
   "outputs": [
    {
     "data": {
      "text/plain": [
       "array([0.27765314, 0.2642076 , 0.26204895, ..., 0.26564184, 0.28047446,\n",
       "       0.23794356])"
      ]
     },
     "execution_count": 25,
     "metadata": {},
     "output_type": "execute_result"
    }
   ],
   "source": [
    "mae_vector"
   ]
  },
  {
   "cell_type": "code",
   "execution_count": 26,
   "metadata": {},
   "outputs": [
    {
     "data": {
      "image/png": "[encoded data removed]",
      "text/plain": [
       "<Figure size 504x432 with 1 Axes>"
      ]
     },
     "metadata": {
      "needs_background": "light"
     },
     "output_type": "display_data"
    }
   ],
   "source": [
    "fig,ax1  = plt.subplots(figsize=(7,6))\n",
    "sns.histplot(data=mae_vector, ax=ax1, color='skyblue', label='non-ignition', kde=True)\n",
    "sns.histplot(data=mae_vector_train, ax=ax1, color='red', label='ignition')\n",
    "xmin, xmax, ymin, ymax = plt.axis()\n",
    "liney = np.arange(ymin, ymax, 0.01)\n",
    "linex = np.ones(len(liney)) * error_median\n",
    "sns.lineplot(x = linex, y= liney, color='black', ax=ax1, linewidth=3, estimator = None, label='error mean')\n",
    "ax.set_title('Comparison reconstruction error ignition / non-ignition')\n",
    "ax.yaxis.set_major_formatter(StrMethodFormatter('{x:,.0f}'))\n",
    "plt.xlim(0,0.2)\n",
    "plt.ylim(0,50)\n",
    "plt.legend()\n",
    "plt.show()"
   ]
  },
  {
   "cell_type": "code",
   "execution_count": 27,
   "metadata": {},
   "outputs": [],
   "source": [
    "#===== program ends here. now create a new label and label non-ignition dataset with new class ===== #"
   ]
  },
  {
   "cell_type": "code",
   "execution_count": 28,
   "metadata": {},
   "outputs": [
    {
     "name": "stdout",
     "output_type": "stream",
     "text": [
      "-----\n",
      "keras               2.12.0\n",
      "matplotlib          3.5.0\n",
      "numpy               1.22.4\n",
      "pandas              1.5.3\n",
      "seaborn             0.11.2\n",
      "session_info        1.0.0\n",
      "sklearn             1.2.1\n",
      "tensorflow          2.12.0\n",
      "-----\n",
      "IPython             7.29.0\n",
      "jupyter_client      8.2.0\n",
      "jupyter_core        5.3.0\n",
      "notebook            6.5.4\n",
      "-----\n",
      "Python 3.8.12 (default, Oct 12 2021, 13:49:34) [GCC 7.5.0]\n",
      "Linux-5.19.0-45-generic-x86_64-with-glibc2.17\n",
      "-----\n",
      "Session information updated at 2023-06-24 23:40\n"
     ]
    }
   ],
   "source": [
    "import session_info\n",
    "session_info.show(html=False)"
   ]
  },
  {
   "cell_type": "markdown",
   "metadata": {},
   "source": [
    "### "
   ]
  }
 ],
 "metadata": {
  "kernelspec": {
   "display_name": "DL",
   "language": "python",
   "name": "dl"
  },
  "language_info": {
   "codemirror_mode": {
    "name": "ipython",
    "version": 3
   },
   "file_extension": ".py",
   "mimetype": "text/x-python",
   "name": "python",
   "nbconvert_exporter": "python",
   "pygments_lexer": "ipython3",
   "version": "3.8.12"
  }
 },
 "nbformat": 4,
 "nbformat_minor": 4
}
