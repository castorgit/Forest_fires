{
 "cells": [
  {
   "cell_type": "markdown",
   "metadata": {},
   "source": [
    "## Training Autoencoder with ignition events\n",
    "\n",
    "**Status:** PUBLIC Distribution <br>\n",
    "**File Name:** 01_Autoencoder_training_ignition_events.ipynb\n",
    "\n",
    "**Author:** Jaume Manero / Darshana Upadhyay / Richard Purcell<br> \n",
    "**Date created:** 2023/06/19<br>\n",
    "**Last modified:** 2023/06/19<br>\n",
    "**Description:** Autoencoders for Forest Fire prediction\n",
    "\n",
    "We train an autoencoder with a file with Ignition events. This is the first notebook. In this notebook we train the autoencoder to recognize ignition events. There is a map visualization of ignition events in BC"
   ]
  },
  {
   "cell_type": "code",
   "execution_count": 1,
   "metadata": {},
   "outputs": [],
   "source": [
    "import os\n",
    "os.environ['TF_CPP_MIN_LOG_LEVEL'] = '3' \n",
    "from datetime import datetime\n",
    "import matplotlib.pyplot as plt\n",
    "import numpy as np\n",
    "import pandas as pd\n",
    "import seaborn as sns\n",
    "\n",
    "import tensorflow as tf\n",
    "tf.compat.v1.disable_eager_execution()\n",
    "from tensorflow.keras.models import Model, load_model\n",
    "from tensorflow.keras.layers import Lambda, Input, Dense\n",
    "from tensorflow.keras.losses import mse, binary_crossentropy, kl_divergence\n",
    "from tensorflow.keras.optimizers.legacy import SGD,Adam,RMSprop\n",
    "from tensorflow.keras import backend as K\n",
    "from tensorflow import keras\n",
    "from sklearn.preprocessing import normalize\n",
    "from keras.models import load_model\n",
    "\n",
    "from sklearn.model_selection import train_test_split\n",
    "from sklearn.preprocessing import MinMaxScaler, StandardScaler, PowerTransformer\n",
    "from sklearn.metrics import classification_report\n",
    "from sklearn.decomposition import PCA\n",
    "\n",
    "import seaborn as sns\n",
    "import matplotlib.pyplot as plt\n",
    "\n",
    "%matplotlib inline"
   ]
  },
  {
   "cell_type": "code",
   "execution_count": 2,
   "metadata": {},
   "outputs": [],
   "source": [
    "# Hyperparameters\n",
    "\n"
   ]
  },
  {
   "cell_type": "code",
   "execution_count": 3,
   "metadata": {},
   "outputs": [
    {
     "data": {
      "text/plain": [
       "Index(['date', 'lon', 'lat', 'u10', 'v10', 'd2m', 't2m', 'e', 'cvh', 'cvl',\n",
       "       'skt', 'stl1', 'stl2', 'stl3', 'stl4', 'slt', 'sp', 'tp', 'swvl1',\n",
       "       'swvl2', 'swvl3', 'swvl4', 'month', 'day', 'hour', 'ignition'],\n",
       "      dtype='object')"
      ]
     },
     "execution_count": 3,
     "metadata": {},
     "output_type": "execute_result"
    }
   ],
   "source": [
    "path_ignition = './Data/ignition_rows.csv'\n",
    "path_non_ignition = './Data/non_ignition_rows.csv'\n",
    "ignition_df = pd.read_csv(path_ignition)  \n",
    "non_ignition_df = pd.read_csv(path_non_ignition, nrows=10000000)  \n",
    "ignition_df.columns"
   ]
  },
  {
   "cell_type": "code",
   "execution_count": 4,
   "metadata": {},
   "outputs": [
    {
     "data": {
      "text/plain": [
       "Index(['date', 'lon', 'lat', 'u10', 'v10', 'd2m', 't2m', 'e', 'cvh', 'cvl',\n",
       "       'skt', 'stl1', 'stl2', 'stl3', 'stl4', 'slt', 'sp', 'tp', 'swvl1',\n",
       "       'swvl2', 'swvl3', 'swvl4', 'month', 'day', 'hour', 'ignition'],\n",
       "      dtype='object')"
      ]
     },
     "execution_count": 4,
     "metadata": {},
     "output_type": "execute_result"
    }
   ],
   "source": [
    "non_ignition_df.columns"
   ]
  },
  {
   "cell_type": "code",
   "execution_count": 5,
   "metadata": {},
   "outputs": [],
   "source": [
    "ignition_df.drop(['lon', 'lat', 'date', 'ignition'], axis=1, inplace=True)\n",
    "non_ignition_df.drop(['lon', 'lat', 'date', 'ignition'], axis=1, inplace=True)"
   ]
  },
  {
   "cell_type": "code",
   "execution_count": 6,
   "metadata": {},
   "outputs": [
    {
     "name": "stdout",
     "output_type": "stream",
     "text": [
      "ignition shape (51918, 22)\n",
      "non_ignition shape (10000000, 22)\n"
     ]
    }
   ],
   "source": [
    "# we create a numpy array with the features of every row\n",
    "ignition_np = ignition_df.to_numpy()\n",
    "print('ignition shape',ignition_np.shape)\n",
    "non_ignition_np = non_ignition_df.to_numpy()\n",
    "print('non_ignition shape',non_ignition_np.shape)"
   ]
  },
  {
   "cell_type": "code",
   "execution_count": 7,
   "metadata": {},
   "outputs": [
    {
     "data": {
      "text/plain": [
       "(51918, 22)"
      ]
     },
     "execution_count": 7,
     "metadata": {},
     "output_type": "execute_result"
    }
   ],
   "source": [
    "ignition_df = ignition_df.replace([np.inf, -np.inf], 0)\n",
    "scaler = MinMaxScaler()\n",
    "ignition_scaled = scaler.fit_transform(ignition_df)\n",
    "ignition_scaled.shape"
   ]
  },
  {
   "cell_type": "code",
   "execution_count": 8,
   "metadata": {},
   "outputs": [
    {
     "data": {
      "text/plain": [
       "(10000000, 22)"
      ]
     },
     "execution_count": 8,
     "metadata": {},
     "output_type": "execute_result"
    }
   ],
   "source": [
    "non_ignition_df = non_ignition_df.replace([np.inf, -np.inf], 0)\n",
    "scaler = MinMaxScaler()\n",
    "non_ignition_scaled = scaler.fit_transform(non_ignition_df)\n",
    "non_ignition_scaled.shape"
   ]
  },
  {
   "cell_type": "code",
   "execution_count": 9,
   "metadata": {},
   "outputs": [
    {
     "data": {
      "text/plain": [
       "(41534, 22)"
      ]
     },
     "execution_count": 9,
     "metadata": {},
     "output_type": "execute_result"
    }
   ],
   "source": [
    "# generate train set\n",
    "# training set will consist of ignition dataset\n",
    "\n",
    "len_ignition = len(ignition_scaled)\n",
    "len_ignition_train = int(0.80 * len_ignition)\n",
    "X_train = ignition_scaled[:len_ignition_train]\n",
    "X_train.shape"
   ]
  },
  {
   "cell_type": "code",
   "execution_count": 10,
   "metadata": {},
   "outputs": [
    {
     "data": {
      "text/plain": [
       "(10000000, 22)"
      ]
     },
     "execution_count": 10,
     "metadata": {},
     "output_type": "execute_result"
    }
   ],
   "source": [
    "# generate test set\n",
    "# training set will consist of ignition dataset\n",
    "\n",
    "len_non_ignition = len(non_ignition_scaled)\n",
    "X_test = non_ignition_scaled\n",
    "X_test.shape"
   ]
  },
  {
   "cell_type": "code",
   "execution_count": 11,
   "metadata": {},
   "outputs": [
    {
     "name": "stdout",
     "output_type": "stream",
     "text": [
      "1653\n"
     ]
    }
   ],
   "source": [
    "#remove Nans and convert them to 0\n",
    "print(np.count_nonzero(np.isnan(X_train)))\n",
    "X_train = np.nan_to_num(X_train)"
   ]
  },
  {
   "cell_type": "code",
   "execution_count": 12,
   "metadata": {},
   "outputs": [
    {
     "name": "stdout",
     "output_type": "stream",
     "text": [
      "19888611\n"
     ]
    }
   ],
   "source": [
    "#remove Nans and convert them to 0\n",
    "print(np.count_nonzero(np.isnan(X_test)))\n",
    "X_test = np.nan_to_num(X_test)\n",
    "# y_test.shape"
   ]
  },
  {
   "cell_type": "code",
   "execution_count": 13,
   "metadata": {},
   "outputs": [],
   "source": [
    "def get_error_term(v1, v2, _rmse=True):\n",
    "    if _rmse:\n",
    "        return np.sqrt(np.mean((v1 - v2) ** 2, axis=1))\n",
    "    #return MAE\n",
    "    return np.mean(np.abs(v1 - v2), axis=1)"
   ]
  },
  {
   "cell_type": "code",
   "execution_count": 14,
   "metadata": {},
   "outputs": [],
   "source": [
    "# The reparameterization trick\n",
    "\n",
    "def sample(args):\n",
    "    z_mean, z_log_var = args\n",
    "    batch = K.shape(z_mean)[0]\n",
    "    dim = K.int_shape(z_mean)[1]\n",
    "    epsilon = K.random_normal(shape=(batch, dim))\n",
    "    return z_mean + K.exp(0.5 * z_log_var) * epsilon"
   ]
  },
  {
   "cell_type": "code",
   "execution_count": 15,
   "metadata": {},
   "outputs": [],
   "source": [
    "original_dim = X_train.shape[1]\n",
    "input_shape = (original_dim,)\n",
    "intermediate_dim = int(original_dim / 2)\n",
    "latent_dim = int(original_dim / 4)\n",
    "intermediate_dim = 1024"
   ]
  },
  {
   "cell_type": "code",
   "execution_count": 16,
   "metadata": {},
   "outputs": [
    {
     "name": "stdout",
     "output_type": "stream",
     "text": [
      "Model: \"encoder\"\n",
      "__________________________________________________________________________________________________\n",
      " Layer (type)                   Output Shape         Param #     Connected to                     \n",
      "==================================================================================================\n",
      " encoder_input (InputLayer)     [(None, 22)]         0           []                               \n",
      "                                                                                                  \n",
      " dense (Dense)                  (None, 1024)         23552       ['encoder_input[0][0]']          \n",
      "                                                                                                  \n",
      " dense_1 (Dense)                (None, 512)          524800      ['dense[0][0]']                  \n",
      "                                                                                                  \n",
      " z_mean (Dense)                 (None, 5)            2565        ['dense_1[0][0]']                \n",
      "                                                                                                  \n",
      " z_log_var (Dense)              (None, 5)            2565        ['dense_1[0][0]']                \n",
      "                                                                                                  \n",
      " z (Lambda)                     (None, 5)            0           ['z_mean[0][0]',                 \n",
      "                                                                  'z_log_var[0][0]']              \n",
      "                                                                                                  \n",
      "==================================================================================================\n",
      "Total params: 553,482\n",
      "Trainable params: 553,482\n",
      "Non-trainable params: 0\n",
      "__________________________________________________________________________________________________\n"
     ]
    }
   ],
   "source": [
    "# encoder model\n",
    "inputs = Input(shape=input_shape, name='encoder_input')\n",
    "x      = Dense(intermediate_dim, activation='relu')(inputs)\n",
    "x      = Dense(intermediate_dim/2, activation='relu')(x)\n",
    "z_mean = Dense(latent_dim, name='z_mean')(x)\n",
    "z_log_var = Dense(latent_dim, name='z_log_var')(x)\n",
    "# use the reparameterization trick and get the output from the sample() function\n",
    "z        = Lambda(sample, output_shape=(latent_dim,), name='z')([z_mean, z_log_var])\n",
    "encoder  = Model(inputs, z, name='encoder')\n",
    "encoder.summary()"
   ]
  },
  {
   "cell_type": "code",
   "execution_count": 17,
   "metadata": {},
   "outputs": [
    {
     "name": "stdout",
     "output_type": "stream",
     "text": [
      "Model: \"decoder\"\n",
      "_________________________________________________________________\n",
      " Layer (type)                Output Shape              Param #   \n",
      "=================================================================\n",
      " z_sampling (InputLayer)     [(None, 5)]               0         \n",
      "                                                                 \n",
      " dense_2 (Dense)             (None, 512)               3072      \n",
      "                                                                 \n",
      " dense_3 (Dense)             (None, 1024)              525312    \n",
      "                                                                 \n",
      " dense_4 (Dense)             (None, 22)                22550     \n",
      "                                                                 \n",
      "=================================================================\n",
      "Total params: 550,934\n",
      "Trainable params: 550,934\n",
      "Non-trainable params: 0\n",
      "_________________________________________________________________\n"
     ]
    }
   ],
   "source": [
    "# decoder model\n",
    "latent_inputs = Input(shape=(latent_dim,), name='z_sampling')\n",
    "x             = Dense(intermediate_dim/2, activation='relu')(latent_inputs)\n",
    "x             = Dense(intermediate_dim, activation='relu')(x)\n",
    "outputs       = Dense(original_dim, activation='sigmoid')(x)\n",
    "# Instantiate the decoder model:\n",
    "decoder       = Model(latent_inputs, outputs, name='decoder')\n",
    "decoder.summary()"
   ]
  },
  {
   "cell_type": "code",
   "execution_count": 18,
   "metadata": {},
   "outputs": [],
   "source": [
    "# full VAE model\n",
    "outputs   = decoder(encoder(inputs))\n",
    "vae_model = Model(inputs, outputs, name='vae_mlp')"
   ]
  },
  {
   "cell_type": "code",
   "execution_count": 19,
   "metadata": {},
   "outputs": [],
   "source": [
    "# the KL loss function:\n",
    "def vae_loss(x, x_decoded_mean):\n",
    "    # compute the average MSE error, then scale it up, ie. simply sum on all axes\n",
    "    reconstruction_loss = K.sum(K.square(x - x_decoded_mean))\n",
    "    # compute the KL loss\n",
    "    kl_loss = - 0.5 * K.sum(1 + z_log_var - K.square(z_mean) - K.square(K.exp(z_log_var)), axis=-1)\n",
    "    # return the average loss over all \n",
    "    total_loss = K.mean(reconstruction_loss + kl_loss)    \n",
    "    #total_loss = reconstruction_loss + kl_loss\n",
    "    return total_loss"
   ]
  },
  {
   "cell_type": "code",
   "execution_count": 20,
   "metadata": {
    "tags": []
   },
   "outputs": [
    {
     "name": "stdout",
     "output_type": "stream",
     "text": [
      "Model: \"vae_mlp\"\n",
      "_________________________________________________________________\n",
      " Layer (type)                Output Shape              Param #   \n",
      "=================================================================\n",
      " encoder_input (InputLayer)  [(None, 22)]              0         \n",
      "                                                                 \n",
      " encoder (Functional)        (None, 5)                 553482    \n",
      "                                                                 \n",
      " decoder (Functional)        (None, 22)                550934    \n",
      "                                                                 \n",
      "=================================================================\n",
      "Total params: 1,104,416\n",
      "Trainable params: 1,104,416\n",
      "Non-trainable params: 0\n",
      "_________________________________________________________________\n",
      "Train on 41534 samples\n",
      "Epoch 1/200\n",
      "41534/41534 [==============================] - 7s 162us/sample - loss: 67.3004\n",
      "Epoch 2/200\n",
      "41534/41534 [==============================] - 5s 129us/sample - loss: 26.2330\n",
      "Epoch 3/200\n",
      "41534/41534 [==============================] - 5s 130us/sample - loss: 24.0577\n",
      "Epoch 4/200\n",
      "41534/41534 [==============================] - 6s 146us/sample - loss: 23.1635\n",
      "Epoch 5/200\n",
      "41534/41534 [==============================] - 6s 135us/sample - loss: 22.5537\n",
      "Epoch 6/200\n",
      "41534/41534 [==============================] - 5s 132us/sample - loss: 22.0638\n",
      "Epoch 7/200\n",
      "41534/41534 [==============================] - 6s 148us/sample - loss: 21.4796\n",
      "Epoch 8/200\n",
      "41534/41534 [==============================] - 7s 176us/sample - loss: 21.0186\n",
      "Epoch 9/200\n",
      "41534/41534 [==============================] - 6s 142us/sample - loss: 20.5818\n",
      "Epoch 10/200\n",
      "41534/41534 [==============================] - 6s 135us/sample - loss: 20.2443\n",
      "Epoch 11/200\n",
      "41534/41534 [==============================] - 5s 123us/sample - loss: 19.8083\n",
      "Epoch 12/200\n",
      "41534/41534 [==============================] - 5s 131us/sample - loss: 19.5977\n",
      "Epoch 13/200\n",
      "41534/41534 [==============================] - 5s 123us/sample - loss: 19.4110\n",
      "Epoch 14/200\n",
      "41534/41534 [==============================] - 5s 129us/sample - loss: 19.2799\n",
      "Epoch 15/200\n",
      "41534/41534 [==============================] - 5s 123us/sample - loss: 19.1372\n",
      "Epoch 16/200\n",
      "41534/41534 [==============================] - 5s 120us/sample - loss: 19.0487\n",
      "Epoch 17/200\n",
      "41534/41534 [==============================] - 5s 122us/sample - loss: 18.9175\n",
      "Epoch 18/200\n",
      "41534/41534 [==============================] - 5s 120us/sample - loss: 18.8587\n",
      "Epoch 19/200\n",
      "41534/41534 [==============================] - 5s 130us/sample - loss: 18.7649\n",
      "Epoch 20/200\n",
      "41534/41534 [==============================] - 6s 136us/sample - loss: 18.6922\n",
      "Epoch 21/200\n",
      "41534/41534 [==============================] - 6s 134us/sample - loss: 18.6283\n",
      "Epoch 22/200\n",
      "41534/41534 [==============================] - 5s 126us/sample - loss: 18.5655\n",
      "Epoch 23/200\n",
      "41534/41534 [==============================] - 5s 121us/sample - loss: 18.5272\n",
      "Epoch 24/200\n",
      "41534/41534 [==============================] - 5s 132us/sample - loss: 18.4702\n",
      "Epoch 25/200\n",
      "41534/41534 [==============================] - 6s 146us/sample - loss: 18.4092\n",
      "Epoch 26/200\n",
      "41534/41534 [==============================] - 5s 130us/sample - loss: 18.4138\n",
      "Epoch 27/200\n",
      "41534/41534 [==============================] - 6s 136us/sample - loss: 18.3289\n",
      "Epoch 28/200\n",
      "41534/41534 [==============================] - 5s 124us/sample - loss: 18.2982\n",
      "Epoch 29/200\n",
      "41534/41534 [==============================] - 5s 130us/sample - loss: 18.2380\n",
      "Epoch 30/200\n",
      "41534/41534 [==============================] - 5s 124us/sample - loss: 18.1821\n",
      "Epoch 31/200\n",
      "41534/41534 [==============================] - 5s 132us/sample - loss: 18.1914\n",
      "Epoch 32/200\n",
      "41534/41534 [==============================] - 6s 132us/sample - loss: 18.1649\n",
      "Epoch 33/200\n",
      "41534/41534 [==============================] - 5s 122us/sample - loss: 18.1062\n",
      "Epoch 34/200\n",
      "41534/41534 [==============================] - 5s 122us/sample - loss: 18.0818\n",
      "Epoch 35/200\n",
      "41534/41534 [==============================] - 6s 135us/sample - loss: 18.0470\n",
      "Epoch 36/200\n",
      "41534/41534 [==============================] - 5s 125us/sample - loss: 18.0173\n",
      "Epoch 37/200\n",
      "41534/41534 [==============================] - 5s 125us/sample - loss: 17.9827\n",
      "Epoch 38/200\n",
      "41534/41534 [==============================] - 5s 124us/sample - loss: 17.9526\n",
      "Epoch 39/200\n",
      "41534/41534 [==============================] - 5s 123us/sample - loss: 17.9515\n",
      "Epoch 40/200\n",
      "41534/41534 [==============================] - 5s 130us/sample - loss: 17.8956\n",
      "Epoch 41/200\n",
      "41534/41534 [==============================] - 6s 143us/sample - loss: 17.8906\n",
      "Epoch 42/200\n",
      "41534/41534 [==============================] - 6s 133us/sample - loss: 17.8894\n",
      "Epoch 43/200\n",
      "41534/41534 [==============================] - 5s 131us/sample - loss: 17.8663\n",
      "Epoch 44/200\n",
      "41534/41534 [==============================] - 5s 122us/sample - loss: 17.8152\n",
      "Epoch 45/200\n",
      "41534/41534 [==============================] - 6s 135us/sample - loss: 17.8053\n",
      "Epoch 46/200\n",
      "41534/41534 [==============================] - 6s 133us/sample - loss: 17.7650\n",
      "Epoch 47/200\n",
      "41534/41534 [==============================] - 5s 125us/sample - loss: 17.7639\n",
      "Epoch 48/200\n",
      "41534/41534 [==============================] - 5s 124us/sample - loss: 17.7361\n",
      "Epoch 49/200\n",
      "41534/41534 [==============================] - 5s 125us/sample - loss: 17.7290\n",
      "Epoch 50/200\n",
      "41534/41534 [==============================] - 5s 121us/sample - loss: 17.7072\n",
      "Epoch 51/200\n",
      "41534/41534 [==============================] - 5s 122us/sample - loss: 17.6659\n",
      "Epoch 52/200\n",
      "41534/41534 [==============================] - 5s 124us/sample - loss: 17.6635\n",
      "Epoch 53/200\n",
      "41534/41534 [==============================] - 5s 125us/sample - loss: 17.6244\n",
      "Epoch 54/200\n",
      "41534/41534 [==============================] - 5s 125us/sample - loss: 17.6482\n",
      "Epoch 55/200\n",
      "41534/41534 [==============================] - 5s 122us/sample - loss: 17.6434\n",
      "Epoch 56/200\n",
      "41534/41534 [==============================] - 5s 127us/sample - loss: 17.6253\n",
      "Epoch 57/200\n",
      "41534/41534 [==============================] - 6s 137us/sample - loss: 17.5751\n",
      "Epoch 58/200\n",
      "41534/41534 [==============================] - 6s 140us/sample - loss: 17.5784\n",
      "Epoch 59/200\n",
      "41534/41534 [==============================] - 7s 170us/sample - loss: 17.5573\n",
      "Epoch 60/200\n",
      "41534/41534 [==============================] - 6s 137us/sample - loss: 17.5307\n",
      "Epoch 61/200\n",
      "41534/41534 [==============================] - 5s 129us/sample - loss: 17.5074\n",
      "Epoch 62/200\n",
      "41534/41534 [==============================] - 5s 124us/sample - loss: 17.5106\n",
      "Epoch 63/200\n",
      "41534/41534 [==============================] - 5s 127us/sample - loss: 17.4998\n",
      "Epoch 64/200\n",
      "41534/41534 [==============================] - 5s 131us/sample - loss: 17.4776\n",
      "Epoch 65/200\n",
      "41534/41534 [==============================] - 6s 135us/sample - loss: 17.5094\n",
      "Epoch 66/200\n",
      "41534/41534 [==============================] - 6s 148us/sample - loss: 17.4918\n",
      "Epoch 67/200\n",
      "41534/41534 [==============================] - 7s 176us/sample - loss: 17.4672\n",
      "Epoch 68/200\n",
      "41534/41534 [==============================] - 6s 144us/sample - loss: 17.4481\n",
      "Epoch 69/200\n",
      "41534/41534 [==============================] - 5s 129us/sample - loss: 17.4231\n",
      "Epoch 70/200\n",
      "41534/41534 [==============================] - 5s 122us/sample - loss: 17.4499\n",
      "Epoch 71/200\n",
      "41534/41534 [==============================] - 5s 115us/sample - loss: 17.4313\n",
      "Epoch 72/200\n",
      "41534/41534 [==============================] - 5s 112us/sample - loss: 17.3929\n",
      "Epoch 73/200\n",
      "41534/41534 [==============================] - 5s 116us/sample - loss: 17.3817\n",
      "Epoch 74/200\n",
      "41534/41534 [==============================] - 5s 112us/sample - loss: 17.3956\n",
      "Epoch 75/200\n",
      "41534/41534 [==============================] - 5s 113us/sample - loss: 17.3736\n",
      "Epoch 76/200\n",
      "41534/41534 [==============================] - 5s 119us/sample - loss: 17.3521\n",
      "Epoch 77/200\n",
      "41534/41534 [==============================] - 5s 122us/sample - loss: 17.3316\n",
      "Epoch 78/200\n",
      "41534/41534 [==============================] - 5s 120us/sample - loss: 17.3166\n",
      "Epoch 79/200\n",
      "41534/41534 [==============================] - 5s 115us/sample - loss: 17.3186\n",
      "Epoch 80/200\n",
      "41534/41534 [==============================] - 5s 121us/sample - loss: 17.3060\n"
     ]
    },
    {
     "name": "stdout",
     "output_type": "stream",
     "text": [
      "Epoch 81/200\n",
      "41534/41534 [==============================] - 5s 124us/sample - loss: 17.3074\n",
      "Epoch 82/200\n",
      "41534/41534 [==============================] - 6s 143us/sample - loss: 17.2995\n",
      "Epoch 83/200\n",
      "41534/41534 [==============================] - 6s 151us/sample - loss: 17.2868\n",
      "Epoch 84/200\n",
      "41534/41534 [==============================] - 6s 139us/sample - loss: 17.2694\n",
      "Epoch 85/200\n",
      "41534/41534 [==============================] - 5s 126us/sample - loss: 17.2751\n",
      "Epoch 86/200\n",
      "41534/41534 [==============================] - 6s 145us/sample - loss: 17.2927\n",
      "Epoch 87/200\n",
      "41534/41534 [==============================] - 7s 171us/sample - loss: 17.2782\n",
      "Epoch 88/200\n",
      "41534/41534 [==============================] - 5s 131us/sample - loss: 17.2525\n",
      "Epoch 89/200\n",
      "41534/41534 [==============================] - 5s 127us/sample - loss: 17.2292\n",
      "Epoch 90/200\n",
      "41534/41534 [==============================] - 5s 125us/sample - loss: 17.2208\n",
      "Epoch 91/200\n",
      "41534/41534 [==============================] - 6s 140us/sample - loss: 17.2431\n",
      "Epoch 92/200\n",
      "41534/41534 [==============================] - 5s 131us/sample - loss: 17.2183\n",
      "Epoch 93/200\n",
      "41534/41534 [==============================] - 5s 111us/sample - loss: 17.2168\n",
      "Epoch 94/200\n",
      "41534/41534 [==============================] - 6s 149us/sample - loss: 17.1986\n",
      "Epoch 95/200\n",
      "41534/41534 [==============================] - 6s 136us/sample - loss: 17.1675\n",
      "Epoch 96/200\n",
      "41534/41534 [==============================] - 6s 136us/sample - loss: 17.1869\n",
      "Epoch 97/200\n",
      "41534/41534 [==============================] - 6s 147us/sample - loss: 17.1600\n",
      "Epoch 98/200\n",
      "41534/41534 [==============================] - 6s 154us/sample - loss: 17.1843\n",
      "Epoch 99/200\n",
      "41534/41534 [==============================] - 6s 144us/sample - loss: 17.1538\n",
      "Epoch 100/200\n",
      "41534/41534 [==============================] - 6s 143us/sample - loss: 17.1393\n",
      "Epoch 101/200\n",
      "41534/41534 [==============================] - 6s 142us/sample - loss: 17.1360\n",
      "Epoch 102/200\n",
      "41534/41534 [==============================] - 5s 129us/sample - loss: 17.1449\n",
      "Epoch 103/200\n",
      "41534/41534 [==============================] - 5s 125us/sample - loss: 17.1265\n",
      "Epoch 104/200\n",
      "41534/41534 [==============================] - 5s 118us/sample - loss: 17.1020\n",
      "Epoch 105/200\n",
      "41534/41534 [==============================] - 5s 117us/sample - loss: 17.1112\n",
      "Epoch 106/200\n",
      "41534/41534 [==============================] - 6s 154us/sample - loss: 17.1177\n",
      "Epoch 107/200\n",
      "41534/41534 [==============================] - 6s 148us/sample - loss: 17.0967\n",
      "Epoch 108/200\n",
      "41534/41534 [==============================] - 6s 137us/sample - loss: 17.0914\n",
      "Epoch 109/200\n",
      "41534/41534 [==============================] - 6s 156us/sample - loss: 17.1041\n",
      "Epoch 110/200\n",
      "41534/41534 [==============================] - 5s 124us/sample - loss: 17.1000\n",
      "Epoch 111/200\n",
      "41534/41534 [==============================] - 6s 136us/sample - loss: 17.0714\n",
      "Epoch 112/200\n",
      "41534/41534 [==============================] - 5s 131us/sample - loss: 17.0642\n",
      "Epoch 113/200\n",
      "41534/41534 [==============================] - 5s 128us/sample - loss: 17.0642\n",
      "Epoch 114/200\n",
      "41534/41534 [==============================] - 5s 124us/sample - loss: 17.0514\n",
      "Epoch 115/200\n",
      "41534/41534 [==============================] - 5s 127us/sample - loss: 17.0680\n",
      "Epoch 116/200\n",
      "41534/41534 [==============================] - 5s 127us/sample - loss: 17.0470\n",
      "Epoch 117/200\n",
      "41534/41534 [==============================] - 5s 123us/sample - loss: 17.0414\n",
      "Epoch 118/200\n",
      "41534/41534 [==============================] - 5s 123us/sample - loss: 17.0289\n",
      "Epoch 119/200\n",
      "41534/41534 [==============================] - 6s 144us/sample - loss: 17.0330\n",
      "Epoch 120/200\n",
      "41534/41534 [==============================] - 5s 125us/sample - loss: 16.9872\n",
      "Epoch 121/200\n",
      "41534/41534 [==============================] - 5s 124us/sample - loss: 16.9752\n",
      "Epoch 122/200\n",
      "41534/41534 [==============================] - 5s 126us/sample - loss: 17.0075\n",
      "Epoch 123/200\n",
      "41534/41534 [==============================] - 5s 125us/sample - loss: 16.9914\n",
      "Epoch 124/200\n",
      "41534/41534 [==============================] - 5s 122us/sample - loss: 17.0027\n",
      "Epoch 125/200\n",
      "41534/41534 [==============================] - 5s 123us/sample - loss: 16.9814\n",
      "Epoch 126/200\n",
      "41534/41534 [==============================] - 5s 122us/sample - loss: 16.9859\n",
      "Epoch 127/200\n",
      "41534/41534 [==============================] - 5s 122us/sample - loss: 16.9985\n",
      "Epoch 128/200\n",
      "41534/41534 [==============================] - 5s 122us/sample - loss: 16.9872\n",
      "Epoch 129/200\n",
      "41534/41534 [==============================] - 5s 122us/sample - loss: 16.9497\n",
      "Epoch 130/200\n",
      "41534/41534 [==============================] - 5s 121us/sample - loss: 16.9530\n",
      "Epoch 131/200\n",
      "41534/41534 [==============================] - 5s 122us/sample - loss: 16.9546\n",
      "Epoch 132/200\n",
      "41534/41534 [==============================] - 5s 124us/sample - loss: 16.9475\n",
      "Epoch 133/200\n",
      "41534/41534 [==============================] - 5s 124us/sample - loss: 16.9534\n",
      "Epoch 134/200\n",
      "41534/41534 [==============================] - 5s 123us/sample - loss: 16.9386\n",
      "Epoch 135/200\n",
      "41534/41534 [==============================] - 5s 122us/sample - loss: 16.9479\n",
      "Epoch 136/200\n",
      "41534/41534 [==============================] - 5s 124us/sample - loss: 16.9488\n",
      "Epoch 137/200\n",
      "41534/41534 [==============================] - 5s 122us/sample - loss: 16.9190\n",
      "Epoch 138/200\n",
      "41534/41534 [==============================] - 5s 122us/sample - loss: 16.9264\n",
      "Epoch 139/200\n",
      "41534/41534 [==============================] - 5s 122us/sample - loss: 16.9033\n",
      "Epoch 140/200\n",
      "41534/41534 [==============================] - 5s 123us/sample - loss: 16.8972\n",
      "Epoch 141/200\n",
      "41534/41534 [==============================] - 5s 123us/sample - loss: 16.9419\n",
      "Epoch 142/200\n",
      "41534/41534 [==============================] - 5s 124us/sample - loss: 16.8814\n",
      "Epoch 143/200\n",
      "41534/41534 [==============================] - 5s 123us/sample - loss: 16.9091\n",
      "Epoch 144/200\n",
      "41534/41534 [==============================] - 5s 124us/sample - loss: 16.9004\n",
      "Epoch 145/200\n",
      "41534/41534 [==============================] - 5s 122us/sample - loss: 16.9097\n",
      "Epoch 146/200\n",
      "41534/41534 [==============================] - 5s 122us/sample - loss: 16.8812\n",
      "Epoch 147/200\n",
      "41534/41534 [==============================] - 5s 122us/sample - loss: 16.8837\n",
      "Epoch 148/200\n",
      "41534/41534 [==============================] - 5s 123us/sample - loss: 16.8791\n",
      "Epoch 149/200\n",
      "41534/41534 [==============================] - 5s 124us/sample - loss: 16.8610\n",
      "Epoch 150/200\n",
      "41534/41534 [==============================] - 5s 124us/sample - loss: 16.8447\n",
      "Epoch 151/200\n",
      "41534/41534 [==============================] - 5s 122us/sample - loss: 16.8499\n",
      "Epoch 152/200\n",
      "41534/41534 [==============================] - 5s 123us/sample - loss: 16.8481\n",
      "Epoch 153/200\n",
      "41534/41534 [==============================] - 5s 123us/sample - loss: 16.8836\n",
      "Epoch 154/200\n",
      "41534/41534 [==============================] - 5s 123us/sample - loss: 16.8418\n",
      "Epoch 155/200\n",
      "41534/41534 [==============================] - 5s 121us/sample - loss: 16.8324\n",
      "Epoch 156/200\n",
      "41534/41534 [==============================] - 5s 124us/sample - loss: 16.8116\n",
      "Epoch 157/200\n",
      "41534/41534 [==============================] - 5s 123us/sample - loss: 16.8395\n",
      "Epoch 158/200\n",
      "41534/41534 [==============================] - 5s 123us/sample - loss: 16.8415\n",
      "Epoch 159/200\n",
      "41534/41534 [==============================] - 5s 123us/sample - loss: 16.8350\n",
      "Epoch 160/200\n",
      "41534/41534 [==============================] - 5s 122us/sample - loss: 16.8304\n",
      "Epoch 161/200\n",
      "41534/41534 [==============================] - 5s 123us/sample - loss: 16.8125\n",
      "Epoch 162/200\n",
      "41534/41534 [==============================] - 5s 126us/sample - loss: 16.8038\n",
      "Epoch 163/200\n",
      "41534/41534 [==============================] - 5s 123us/sample - loss: 16.8010\n",
      "Epoch 164/200\n",
      "41534/41534 [==============================] - 6s 146us/sample - loss: 16.8074\n",
      "Epoch 165/200\n",
      "41534/41534 [==============================] - 5s 129us/sample - loss: 16.7954\n",
      "Epoch 166/200\n",
      "41534/41534 [==============================] - 5s 125us/sample - loss: 16.8071\n",
      "Epoch 167/200\n",
      "41534/41534 [==============================] - 5s 124us/sample - loss: 16.8014\n",
      "Epoch 168/200\n",
      "41534/41534 [==============================] - 5s 125us/sample - loss: 16.7853\n",
      "Epoch 169/200\n"
     ]
    },
    {
     "name": "stdout",
     "output_type": "stream",
     "text": [
      "41534/41534 [==============================] - 5s 124us/sample - loss: 16.7887\n",
      "Epoch 170/200\n",
      "41534/41534 [==============================] - 5s 123us/sample - loss: 16.7885\n",
      "Epoch 171/200\n",
      "41534/41534 [==============================] - 5s 121us/sample - loss: 16.8009\n",
      "Epoch 172/200\n",
      "41534/41534 [==============================] - 5s 122us/sample - loss: 16.7635\n",
      "Epoch 173/200\n",
      "41534/41534 [==============================] - 5s 121us/sample - loss: 16.7676\n",
      "Epoch 174/200\n",
      "41534/41534 [==============================] - 5s 123us/sample - loss: 16.7924\n",
      "Epoch 175/200\n",
      "41534/41534 [==============================] - 5s 121us/sample - loss: 16.7700\n",
      "Epoch 176/200\n",
      "41534/41534 [==============================] - 5s 122us/sample - loss: 16.7672\n",
      "Epoch 177/200\n",
      "41534/41534 [==============================] - 5s 122us/sample - loss: 16.7663\n",
      "Epoch 178/200\n",
      "41534/41534 [==============================] - 5s 122us/sample - loss: 16.7458\n",
      "Epoch 179/200\n",
      "41534/41534 [==============================] - 5s 122us/sample - loss: 16.7681\n",
      "Epoch 180/200\n",
      "41534/41534 [==============================] - 5s 123us/sample - loss: 16.7427\n",
      "Epoch 181/200\n",
      "41534/41534 [==============================] - 5s 124us/sample - loss: 16.7578\n",
      "Epoch 182/200\n",
      "41534/41534 [==============================] - 5s 121us/sample - loss: 16.7281\n",
      "Epoch 183/200\n",
      "41534/41534 [==============================] - 5s 123us/sample - loss: 16.7305\n",
      "Epoch 184/200\n",
      "41534/41534 [==============================] - 5s 122us/sample - loss: 16.7643\n",
      "Epoch 185/200\n",
      "41534/41534 [==============================] - 5s 122us/sample - loss: 16.7395\n",
      "Epoch 186/200\n",
      "41534/41534 [==============================] - 5s 121us/sample - loss: 16.7267\n",
      "Epoch 187/200\n",
      "41534/41534 [==============================] - 5s 122us/sample - loss: 16.7210\n",
      "Epoch 188/200\n",
      "41534/41534 [==============================] - 5s 122us/sample - loss: 16.7138\n",
      "Epoch 189/200\n",
      "41534/41534 [==============================] - 5s 121us/sample - loss: 16.7178\n",
      "Epoch 190/200\n",
      "41534/41534 [==============================] - 5s 122us/sample - loss: 16.7179\n",
      "Epoch 191/200\n",
      "41534/41534 [==============================] - 5s 121us/sample - loss: 16.7166\n",
      "Epoch 192/200\n",
      "41534/41534 [==============================] - 5s 123us/sample - loss: 16.7238\n",
      "Epoch 193/200\n",
      "41534/41534 [==============================] - 5s 122us/sample - loss: 16.7038\n",
      "Epoch 194/200\n",
      "41534/41534 [==============================] - 5s 121us/sample - loss: 16.6985\n",
      "Epoch 195/200\n",
      "41534/41534 [==============================] - 5s 122us/sample - loss: 16.7045\n",
      "Epoch 196/200\n",
      "41534/41534 [==============================] - 5s 122us/sample - loss: 16.6762\n",
      "Epoch 197/200\n",
      "41534/41534 [==============================] - 5s 121us/sample - loss: 16.7056\n",
      "Epoch 198/200\n",
      "41534/41534 [==============================] - 5s 123us/sample - loss: 16.7014\n",
      "Epoch 199/200\n",
      "41534/41534 [==============================] - 5s 122us/sample - loss: 16.7151\n",
      "Epoch 200/200\n",
      "41534/41534 [==============================] - 5s 122us/sample - loss: 16.6830\n"
     ]
    },
    {
     "data": {
      "image/png": "[encoded data removed]",
      "text/plain": [
       "<Figure size 432x288 with 1 Axes>"
      ]
     },
     "metadata": {
      "needs_background": "light"
     },
     "output_type": "display_data"
    },
    {
     "name": "stdout",
     "output_type": "stream",
     "text": [
      "INFO:tensorflow:Assets written to: ./Data/vae_model.hf5/assets\n"
     ]
    },
    {
     "name": "stderr",
     "output_type": "stream",
     "text": [
      "INFO:tensorflow:Assets written to: ./Data/vae_model.hf5/assets\n"
     ]
    }
   ],
   "source": [
    "opt = RMSprop(learning_rate=0.0001)\n",
    "opt = Adam(learning_rate=0.0001, clipvalue=0.5)\n",
    "\n",
    "\n",
    "vae_model.compile(optimizer=opt, loss=vae_loss)\n",
    "vae_model.summary()\n",
    "\n",
    "trained = False     # First time train / Next times use saved model to speed up analysis\n",
    "if trained:\n",
    "    vae_model = load_model('./Data/vae_model.hf5', custom_objects={'vae_loss': vae_loss})\n",
    "\n",
    "else:\n",
    "    results = vae_model.fit(X_train, X_train,\n",
    "                        shuffle=True,\n",
    "                        epochs=200,\n",
    "                        batch_size=128)\n",
    "    # Training figure\n",
    "    plt.plot(results.history['loss'])\n",
    "    plt.title('model loss')\n",
    "    plt.ylabel('loss')\n",
    "    plt.xlabel('epoch')\n",
    "    plt.legend(['train', 'test'], loc='upper right');\n",
    "    plt.show()\n",
    "    # saving weights\n",
    "    vae_model.save('./Data/vae_model.hf5')"
   ]
  },
  {
   "cell_type": "code",
   "execution_count": 21,
   "metadata": {},
   "outputs": [
    {
     "name": "stderr",
     "output_type": "stream",
     "text": [
      "/home/manero/DL/lib/python3.8/site-packages/keras/engine/training_v1.py:2359: UserWarning: `Model.state_updates` will be removed in a future version. This property should not be used in TensorFlow 2.0, as `updates` are applied automatically.\n",
      "  updates=self.state_updates,\n"
     ]
    }
   ],
   "source": [
    "X_train_pred = vae_model.predict(X_train)"
   ]
  },
  {
   "cell_type": "code",
   "execution_count": 22,
   "metadata": {},
   "outputs": [
    {
     "name": "stdout",
     "output_type": "stream",
     "text": [
      "Avg error 0.03944289685368962\n",
      "median error 0.03821436934316527\n",
      "99Q:          0.07002055478887573\n",
      "setting threshold on 0.07002055478887573 \n",
      "0.07640495009005822\n"
     ]
    }
   ],
   "source": [
    "mae_vector_train = get_error_term(X_train_pred, X_train, _rmse=False)\n",
    "\n",
    "print(f'Avg error {np.mean(mae_vector_train)}\\nmedian error {np.median(mae_vector_train)}\\n99Q:    \\\n",
    "      {np.quantile(mae_vector_train, 0.99)}')\n",
    "print(f'setting threshold on { np.quantile(mae_vector_train, 0.99)} ')\n",
    "\n",
    "error_thresh = np.quantile(mae_vector_train, 0.99)\n",
    "error_thresh = np.quantile(mae_vector_train, 0.995)\n",
    "print(error_thresh)"
   ]
  },
  {
   "cell_type": "code",
   "execution_count": 23,
   "metadata": {},
   "outputs": [
    {
     "data": {
      "text/plain": [
       "<AxesSubplot:title={'center':'Distribution Plot reconstruction error ignitions'}, ylabel='Count'>"
      ]
     },
     "execution_count": 23,
     "metadata": {},
     "output_type": "execute_result"
    },
    {
     "data": {
      "image/png": "[encoded data removed]",
      "text/plain": [
       "<Figure size 504x432 with 1 Axes>"
      ]
     },
     "metadata": {
      "needs_background": "light"
     },
     "output_type": "display_data"
    }
   ],
   "source": [
    "fig, ax = plt.subplots(figsize=(7,6))\n",
    "ax.set_title('Distribution Plot reconstruction error ignitions')\n",
    "sns.histplot(data=mae_vector_train)"
   ]
  },
  {
   "cell_type": "code",
   "execution_count": 24,
   "metadata": {},
   "outputs": [
    {
     "name": "stdout",
     "output_type": "stream",
     "text": [
      "total non_ignitions 10000000\n",
      "number of almost_ignitions 507281\n"
     ]
    }
   ],
   "source": [
    "X_pred_test = vae_model.predict(X_test)\n",
    "\n",
    "#train_mae_loss = np.mean(np.abs(x_train_pred - x_train), axis=1)\n",
    "\n",
    "mae_vector = get_error_term(X_pred_test, X_test, _rmse=False)\n",
    "anomalies = (mae_vector > error_thresh)\n",
    "\n",
    "np.count_nonzero(anomalies) / len(anomalies)\n",
    "print('total non_ignitions',len(X_pred_test))\n",
    "print('number of almost_ignitions', np.count_nonzero(anomalies))\n",
    "\n",
    "#print('total y_test',len(y_test))\n",
    "#print(np.count_nonzero(y_test))"
   ]
  },
  {
   "cell_type": "code",
   "execution_count": 25,
   "metadata": {},
   "outputs": [
    {
     "data": {
      "image/png": "[encoded data removed]",
      "text/plain": [
       "<Figure size 504x432 with 1 Axes>"
      ]
     },
     "metadata": {
      "needs_background": "light"
     },
     "output_type": "display_data"
    }
   ],
   "source": [
    "fig, ax = plt.subplots(figsize=(7,6))\n",
    "sns.histplot(data=mae_vector, ax=ax, color='skyblue', label='non-ignition', kde=True)\n",
    "sns.histplot(data=mae_vector_train, ax=ax, color='red', label='ignition')\n",
    "ax.set_title('Comparison reconstruction error ignition / non-ignition')\n",
    "plt.xlim(0,0.2)\n",
    "plt.legend()\n",
    "plt.show()"
   ]
  },
  {
   "cell_type": "code",
   "execution_count": 26,
   "metadata": {},
   "outputs": [],
   "source": [
    "#===== program ends here. now create a new label and label non-ignition dataset with new class ===== #"
   ]
  },
  {
   "cell_type": "code",
   "execution_count": 27,
   "metadata": {},
   "outputs": [
    {
     "name": "stdout",
     "output_type": "stream",
     "text": [
      "-----\n",
      "keras               2.12.0\n",
      "matplotlib          3.5.0\n",
      "numpy               1.22.4\n",
      "pandas              1.5.3\n",
      "seaborn             0.11.2\n",
      "session_info        1.0.0\n",
      "sklearn             1.2.1\n",
      "tensorflow          2.12.0\n",
      "-----\n",
      "IPython             7.29.0\n",
      "jupyter_client      8.2.0\n",
      "jupyter_core        5.3.0\n",
      "notebook            6.5.4\n",
      "-----\n",
      "Python 3.8.12 (default, Oct 12 2021, 13:49:34) [GCC 7.5.0]\n",
      "Linux-5.19.0-45-generic-x86_64-with-glibc2.17\n",
      "-----\n",
      "Session information updated at 2023-06-21 21:39\n"
     ]
    }
   ],
   "source": [
    "import session_info\n",
    "session_info.show(html=False)"
   ]
  },
  {
   "cell_type": "markdown",
   "metadata": {},
   "source": [
    "### "
   ]
  }
 ],
 "metadata": {
  "kernelspec": {
   "display_name": "DL",
   "language": "python",
   "name": "dl"
  },
  "language_info": {
   "codemirror_mode": {
    "name": "ipython",
    "version": 3
   },
   "file_extension": ".py",
   "mimetype": "text/x-python",
   "name": "python",
   "nbconvert_exporter": "python",
   "pygments_lexer": "ipython3",
   "version": "3.8.12"
  }
 },
 "nbformat": 4,
 "nbformat_minor": 4
}
